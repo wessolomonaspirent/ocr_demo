{
 "cells": [
  {
   "cell_type": "code",
   "execution_count": 1,
   "metadata": {},
   "outputs": [],
   "source": [
    "import io\n",
    "import json\n",
    "from collections import Counter\n",
    "import pandas as pd\n",
    "from PIL import Image\n",
    "from typing import List\n",
    "from IPython.display import display\n",
    "import boto3"
   ]
  },
  {
   "cell_type": "code",
   "execution_count": null,
   "metadata": {},
   "outputs": [],
   "source": []
  }
 ],
 "metadata": {
  "kernelspec": {
   "display_name": "pymain",
   "language": "python",
   "name": "python3"
  },
  "language_info": {
   "codemirror_mode": {
    "name": "ipython",
    "version": 3
   },
   "file_extension": ".py",
   "mimetype": "text/x-python",
   "name": "python",
   "nbconvert_exporter": "python",
   "pygments_lexer": "ipython3",
   "version": "3.10.6"
  },
  "orig_nbformat": 4,
  "vscode": {
   "interpreter": {
    "hash": "cd6f7b6af5a474b0eb1db831f38d4c76c7d86172d5336df8c4daa0f5fd0483b9"
   }
  }
 },
 "nbformat": 4,
 "nbformat_minor": 2
}
